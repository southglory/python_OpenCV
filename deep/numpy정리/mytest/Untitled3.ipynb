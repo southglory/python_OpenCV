{
 "cells": [
  {
   "cell_type": "code",
   "execution_count": 15,
   "metadata": {},
   "outputs": [
    {
     "name": "stdout",
     "output_type": "stream",
     "text": [
      "       height  weight\n",
      "0         140      45\n",
      "1         145      72\n",
      "2         150      61\n",
      "3         137      56\n",
      "4         192      48\n",
      "...       ...     ...\n",
      "19995     157      67\n",
      "19996     138      40\n",
      "19997     163      62\n",
      "19998     169      68\n",
      "19999     183      39\n",
      "\n",
      "[20000 rows x 2 columns]\n",
      "0        normal\n",
      "1           fat\n",
      "2           fat\n",
      "3           fat\n",
      "4          thin\n",
      "          ...  \n",
      "19995       fat\n",
      "19996    normal\n",
      "19997    normal\n",
      "19998    normal\n",
      "19999      thin\n",
      "Name: label, Length: 20000, dtype: object\n",
      "['thin' 'thin' 'thin' ... 'normal' 'thin' 'fat']\n",
      "score: 0.9918\n"
     ]
    }
   ],
   "source": [
    "import pandas as pd\n",
    "from sklearn import svm, metrics\n",
    "from sklearn.model_selection import train_test_split\n",
    "   \n",
    "csv = pd.read_csv('C:/Users/Playdata/Documents/python_OpenCV/deep/bmi.csv')\n",
    "csv_data = csv[['height','weight']]\n",
    "csv_label = csv['label']\n",
    "print(csv_data)\n",
    "print(csv_label)\n",
    "\n",
    "\n",
    "train_data, test_data,train_label, test_label =train_test_split(csv_data,csv_label)\n",
    "\n",
    "clf = svm.SVC()\n",
    "clf.fit(train_data,train_label)\n",
    "pre = clf.predict(test_data)\n",
    "score = metrics.accuracy_score(test_label,pre)\n",
    "print(pre)\n",
    "print('score:', score)"
   ]
  },
  {
   "cell_type": "code",
   "execution_count": 20,
   "metadata": {},
   "outputs": [
    {
     "data": {
      "text/plain": [
       "[1,\n",
       " 2,\n",
       " 3,\n",
       " 4,\n",
       " 5,\n",
       " 6,\n",
       " 7,\n",
       " 8,\n",
       " 9,\n",
       " 10,\n",
       " 11,\n",
       " 12,\n",
       " 13,\n",
       " 14,\n",
       " 15,\n",
       " 16,\n",
       " 17,\n",
       " 18,\n",
       " 19,\n",
       " 20,\n",
       " 21,\n",
       " 22,\n",
       " 23,\n",
       " 24,\n",
       " 25,\n",
       " 26]"
      ]
     },
     "execution_count": 20,
     "metadata": {},
     "output_type": "execute_result"
    }
   ],
   "source": [
    "idx=[]\n",
    "for i in range(0,26):\n",
    "    idx.append(i+1)\n",
    "idx"
   ]
  }
 ],
 "metadata": {
  "kernelspec": {
   "display_name": "Python 3",
   "language": "python",
   "name": "python3"
  },
  "language_info": {
   "codemirror_mode": {
    "name": "ipython",
    "version": 3
   },
   "file_extension": ".py",
   "mimetype": "text/x-python",
   "name": "python",
   "nbconvert_exporter": "python",
   "pygments_lexer": "ipython3",
   "version": "3.7.6"
  }
 },
 "nbformat": 4,
 "nbformat_minor": 4
}
