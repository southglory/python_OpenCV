{
 "cells": [
  {
   "cell_type": "code",
   "execution_count": null,
   "metadata": {},
   "outputs": [],
   "source": [
    "from sklearn import svm, metrics\n",
    "from sklearn.model_selection import train_test_split\n",
    "\n",
    "path = 'C:/Users/Playdata/Documents/python_OpenCV/deep/'\n",
    "def load_csv(fname):\n",
    "    label = []\n",
    "    data=[]\n",
    "    with open(path+fname, 'r') as f:\n",
    "        for line in f:\n",
    "            t= line.split(',')\n",
    "            if t[0]=='\\n':\n",
    "                continue\n",
    "            label.append(int(t[0]))\n",
    "            num_data = []\n",
    "            for i in range(1, len(t)):\n",
    "                num_data.append(int(t[i])/256)\n",
    "            data.append(num_data)\n",
    "        return label, data\n",
    "train_label, train_data = loac()\n",
    "\n",
    "\n",
    "\n",
    "train_test_split(arrays, test_size, train_size, random_state, shuffle, stratify)\n"
   ]
  }
 ],
 "metadata": {
  "kernelspec": {
   "display_name": "Python 3",
   "language": "python",
   "name": "python3"
  },
  "language_info": {
   "codemirror_mode": {
    "name": "ipython",
    "version": 3
   },
   "file_extension": ".py",
   "mimetype": "text/x-python",
   "name": "python",
   "nbconvert_exporter": "python",
   "pygments_lexer": "ipython3",
   "version": "3.7.6"
  }
 },
 "nbformat": 4,
 "nbformat_minor": 4
}
