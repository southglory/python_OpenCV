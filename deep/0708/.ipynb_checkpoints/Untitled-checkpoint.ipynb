{
 "cells": [
  {
   "cell_type": "code",
   "execution_count": 6,
   "metadata": {},
   "outputs": [
    {
     "name": "stdout",
     "output_type": "stream",
     "text": [
      "정답률: 1.0\n"
     ]
    }
   ],
   "source": [
    "import pandas as pd\n",
    "from sklearn import svm, metrics\n",
    "from sklearn.model_selection import train_test_split\n",
    "from sklearn.ensemble import RandomForestClassifier\n",
    "\n",
    "path='C:\\\\Users\\\\Playdata\\\\Documents\\\\python_OpenCV\\\\deep\\\\mushroom.csv'\n",
    "mr= pd.read_csv(path,header = None)\n",
    "label = [] #정답리스트\n",
    "data = [] #문제 리스트\n",
    "for idx, row in mr.iterrows(): #csv 파일의 내용을 한줄씩 읽어서 row에 저장\n",
    "    la = row[0]#읽은 줄의 첫 글자(p또는 e)추출\n",
    "    label.append(ord(la))#그 아스키값을 정답리스트에 추가\n",
    "    chs=[]#\n",
    "    for ch in row[1:]:\n",
    "        chs.append(ord(ch))\n",
    "    data.append(chs)\n",
    "    \n",
    "# print(label)\n",
    "# print(data)\n",
    "    \n",
    "    #학습 데이터, 레이블, 테스트 데이터, 레이블 분리\n",
    "train_data, test_data, train_label, test_label = train_test_split(data,label)\n",
    "\n",
    "clf = RandomForestClassifier()#랜덥포레스트 머신 생성\n",
    "clf.fit(train_data, train_label)#학습\n",
    "pre = clf.predict(test_data)#테스팅\n",
    "\n",
    "score = metrics.accuracy_score(test_label,pre)\n",
    "print('정답률:',score)\n",
    "# for p in pre:\n",
    "#     print(chr(p))"
   ]
  },
  {
   "cell_type": "code",
   "execution_count": 8,
   "metadata": {},
   "outputs": [
    {
     "name": "stdout",
     "output_type": "stream",
     "text": [
      "정답률: 1.0\n",
      "크로스 밸리데이션: [0.84246154 1.         1.         1.         0.625     ]\n"
     ]
    }
   ],
   "source": [
    "import pandas as pd\n",
    "from sklearn import metrics\n",
    "from sklearn.model_selection import train_test_split\n",
    "from sklearn.ensemble import RandomForestClassifier\n",
    "from sklearn import model_selection\n",
    "\n",
    "path='C:\\\\Users\\\\Playdata\\\\Documents\\\\python_OpenCV\\\\deep\\\\mushroom.csv'\n",
    "mr= pd.read_csv(path,header = None)\n",
    "label = [] #정답리스트\n",
    "data = [] #문제 리스트\n",
    "for idx, row in mr.iterrows(): #csv 파일의 내용을 한줄씩 읽어서 row에 저장\n",
    "    la = row[0]#읽은 줄의 첫 글자(p또는 e)추출\n",
    "    label.append(ord(la))#그 아스키값을 정답리스트에 추가\n",
    "    chs=[]#\n",
    "    for ch in row[1:]:\n",
    "        chs.append(ord(ch))\n",
    "    data.append(chs)\n",
    "    \n",
    "# print(label)\n",
    "# print(data)\n",
    "    \n",
    "    #학습 데이터, 레이블, 테스트 데이터, 레이블 분리\n",
    "train_data, test_data, train_label, test_label = train_test_split(data,label)\n",
    "\n",
    "clf = RandomForestClassifier()#랜덥포레스트 머신 생성\n",
    "clf.fit(train_data, train_label)#학습\n",
    "pre = clf.predict(test_data)#테스팅\n",
    "\n",
    "score = metrics.accuracy_score(test_label,pre)\n",
    "print('정답률:',score)\n",
    "# for p in pre:\n",
    "#     print(chr(p))\n",
    "\n",
    "score2= model_selection.cross_val_score(clf, data, label, cv = 5)#교차검증(머신, 데이터, 정답, 그룹수)\n",
    "print('크로스 밸리데이션:',score2)"
   ]
  },
  {
   "cell_type": "code",
   "execution_count": null,
   "metadata": {},
   "outputs": [],
   "source": [
    "import "
   ]
  },
  {
   "cell_type": "code",
   "execution_count": null,
   "metadata": {},
   "outputs": [],
   "source": [
    "path = 'C:/Users/Playdata/Documents/python_OpenCV/deep/mnist/'\n",
    "def load_csv(fname):\n",
    "    label = []\n",
    "    data = []\n",
    "    with open(path+fname, 'r') as f:\n",
    "        for line in f:\n",
    "            t = line.split(',')\n",
    "            if t[0]=='\\n':\n",
    "                    continue\n",
    "            label.append(int(t[0]))\n",
    "            num_img = []#숫자 이미지 1개\n",
    "            for i in range(1, len(t)):\n",
    "                num_img.append(int(t[i])/256)\n",
    "            data.append(num_img)\n",
    "    return label, data\n",
    "\n",
    "train_label,train_data = load_csv('train.csv')\n",
    "test_label,test_data = load_csv('t10k.csv')\n",
    "            \n",
    "clf = svm.SVC()\n",
    "clf.fit(train_data, train_label)\n",
    "pre = clf.predict(test_data)\n",
    "print(pre)\n",
    "score = metrics.accuracy_score(test_label, pre)\n",
    "print(score)"
   ]
  }
 ],
 "metadata": {
  "kernelspec": {
   "display_name": "Python 3",
   "language": "python",
   "name": "python3"
  },
  "language_info": {
   "codemirror_mode": {
    "name": "ipython",
    "version": 3
   },
   "file_extension": ".py",
   "mimetype": "text/x-python",
   "name": "python",
   "nbconvert_exporter": "python",
   "pygments_lexer": "ipython3",
   "version": "3.7.6"
  }
 },
 "nbformat": 4,
 "nbformat_minor": 4
}
