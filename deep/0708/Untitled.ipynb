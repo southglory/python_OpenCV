{
 "cells": [
  {
   "cell_type": "code",
   "execution_count": 6,
   "metadata": {},
   "outputs": [
    {
     "name": "stdout",
     "output_type": "stream",
     "text": [
      "정답률: 1.0\n"
     ]
    }
   ],
   "source": [
    "import pandas as pd\n",
    "from sklearn import svm, metrics\n",
    "from sklearn.model_selection import train_test_split\n",
    "from sklearn.ensemble import RandomForestClassifier\n",
    "\n",
    "path='C:\\\\Users\\\\Playdata\\\\Documents\\\\python_OpenCV\\\\deep\\\\mushroom.csv'\n",
    "mr= pd.read_csv(path,header = None)\n",
    "label = [] #정답리스트\n",
    "data = [] #문제 리스트\n",
    "for idx, row in mr.iterrows(): #csv 파일의 내용을 한줄씩 읽어서 row에 저장\n",
    "    la = row[0]#읽은 줄의 첫 글자(p또는 e)추출\n",
    "    label.append(ord(la))#그 아스키값을 정답리스트에 추가\n",
    "    chs=[]#\n",
    "    for ch in row[1:]:\n",
    "        chs.append(ord(ch))\n",
    "    data.append(chs)\n",
    "    \n",
    "# print(label)\n",
    "# print(data)\n",
    "    \n",
    "    #학습 데이터, 레이블, 테스트 데이터, 레이블 분리\n",
    "train_data, test_data, train_label, test_label = train_test_split(data,label)\n",
    "\n",
    "clf = RandomForestClassifier()#랜덥포레스트 머신 생성\n",
    "clf.fit(train_data, train_label)#학습\n",
    "pre = clf.predict(test_data)#테스팅\n",
    "\n",
    "score = metrics.accuracy_score(test_label,pre)\n",
    "print('정답률:',score)\n",
    "# for p in pre:\n",
    "#     print(chr(p))"
   ]
  },
  {
   "cell_type": "code",
   "execution_count": 8,
   "metadata": {},
   "outputs": [
    {
     "name": "stdout",
     "output_type": "stream",
     "text": [
      "정답률: 1.0\n",
      "크로스 밸리데이션: [0.84246154 1.         1.         1.         0.625     ]\n"
     ]
    }
   ],
   "source": [
    "import pandas as pd\n",
    "from sklearn import metrics\n",
    "from sklearn.model_selection import train_test_split\n",
    "from sklearn.ensemble import RandomForestClassifier\n",
    "from sklearn import model_selection\n",
    "\n",
    "path='C:\\\\Users\\\\Playdata\\\\Documents\\\\python_OpenCV\\\\deep\\\\mushroom.csv'\n",
    "mr= pd.read_csv(path,header = None)\n",
    "label = [] #정답리스트\n",
    "data = [] #문제 리스트\n",
    "for idx, row in mr.iterrows(): #csv 파일의 내용을 한줄씩 읽어서 row에 저장\n",
    "    la = row[0]#읽은 줄의 첫 글자(p또는 e)추출\n",
    "    label.append(ord(la))#그 아스키값을 정답리스트에 추가\n",
    "    chs=[]#\n",
    "    for ch in row[1:]:\n",
    "        chs.append(ord(ch))\n",
    "    data.append(chs)\n",
    "    \n",
    "# print(label)\n",
    "# print(data)\n",
    "    \n",
    "    #학습 데이터, 레이블, 테스트 데이터, 레이블 분리\n",
    "train_data, test_data, train_label, test_label = train_test_split(data,label)\n",
    "\n",
    "clf = RandomForestClassifier()#랜덥포레스트 머신 생성\n",
    "clf.fit(train_data, train_label)#학습\n",
    "pre = clf.predict(test_data)#테스팅\n",
    "\n",
    "score = metrics.accuracy_score(test_label,pre)\n",
    "print('정답률:',score)\n",
    "# for p in pre:\n",
    "#     print(chr(p))\n",
    "\n",
    "score2= model_selection.cross_val_score(clf, data, label, cv = 5)#교차검증(머신, 데이터, 정답, 그룹수)\n",
    "print('크로스 밸리데이션:',score2)"
   ]
  },
  {
   "cell_type": "code",
   "execution_count": 9,
   "metadata": {},
   "outputs": [
    {
     "name": "stdout",
     "output_type": "stream",
     "text": [
      "[7 2 1 0 4 1 4 9 2 9 0 2 9 0 1 5 9 7 3 4 9 6 4 5 4 0 7 4 0 1 3 1 3 4 7 2 7\n",
      " 1 2 1 1 7 4 2 5 5 1 2 4 4 6 3 5 5 2 0 4 1 9 5 7 2 9 2 7 9 2 4 3 0 7 0 2 8\n",
      " 1 7 3 7 9 7 9 6 2 7 8 4 7 3 6 1 3 6 9 3 1 4 1 7 6 9 6 0 5 4 9 9 2 1 9 4 8\n",
      " 1 3 9 7 9 4 4 9 2 3 6 7 6 9 9 0 5 8 5 6 6 5 7 8 1 0 1 6 4 6 7 3 1 7 1 8 2\n",
      " 0 4 9 9 5 5 1 5 6 0 3 4 4 6 5 4 6 5 4 5 1 4 4 7 2 3 2 7 1 8 1 8 1 8 5 0 8\n",
      " 9 2 5 0 1 1 1 0 9 0 3 1 6 9 2 3 6 1 1 1 3 9 5 2 9 4 7 9 1 9 0 3 5 7 5 7 2\n",
      " 2 7 1 2 8 4 1 7 5 3 8 7 7 9 2 2 4 1 5 3 8 4 2 5 0 2 4 2 9 1 9 5 7 7 2 8 2\n",
      " 6 8 1 7 7 9 1 8 1 5 0 3 0 1 9 9 4 1 8 2 1 2 9 7 5 9 2 6 4 1 5 4 2 9 2 0 9\n",
      " 0 0 2 8 4 7 1 2 4 0 2 7 4 3 3 0 0 5 1 7 6 5 0 5 7 7 9 3 0 9 2 0 7 1 1 1 1\n",
      " 5 3 3 9 7 0 6 5 4 1 3 5 1 0 5 1 9 1 5 0 6 1 8 5 1 9 9 4 6 7 2 5 0 6 3 6 3\n",
      " 7 2 0 8 8 5 9 1 1 4 0 3 3 7 6 1 6 2 1 9 2 8 6 1 9 5 2 5 4 4 2 8 5 9 2 4 5\n",
      " 0 3 1 7 7 3 7 9 7 1 9 2 1 4 2 9 2 0 4 9 1 4 8 1 8 4 4 9 8 8 3 7 6 0 0 3 5\n",
      " 8 0 6 4 8 3 3 3 2 3 9 1 2 5 8 0 9 6 6 6 7 8 8 2 2 5 8 9 6 1 8 4 1 2 5 3 1\n",
      " 9 7 7 4 0 9 9 9 1 0 5 2 3 7 2 9 4 0 6 3]\n",
      "0.8682634730538922\n"
     ]
    }
   ],
   "source": [
    "path = 'C:/Users/Playdata/Documents/python_OpenCV/deep/mnist/'\n",
    "def load_csv(fname):\n",
    "    label = []\n",
    "    data = []\n",
    "    with open(path+fname, 'r') as f:\n",
    "        for line in f:\n",
    "            t = line.split(',')\n",
    "            if t[0]=='\\n':\n",
    "                    continue\n",
    "            label.append(int(t[0]))\n",
    "            num_img = []#숫자 이미지 1개\n",
    "            for i in range(1, len(t)):\n",
    "                num_img.append(int(t[i])/256)\n",
    "            data.append(num_img)\n",
    "    return label, data\n",
    "\n",
    "train_label,train_data = load_csv('train.csv')\n",
    "test_label,test_data = load_csv('t10k.csv')\n",
    "\n",
    "clf = svm.SVC()\n",
    "clf.fit(train_data, train_label)\n",
    "pre = clf.predict(test_data)\n",
    "print(pre)\n",
    "score = metrics.accuracy_score(test_label, pre)\n",
    "print(score)"
   ]
  },
  {
   "cell_type": "code",
   "execution_count": 13,
   "metadata": {},
   "outputs": [
    {
     "name": "stdout",
     "output_type": "stream",
     "text": [
      "[7 2 1 0 4 1 4 9 2 9 0 6 9 0 1 5 9 7 3 4 9 6 6 5 4 0 7 4 0 1 3 1 3 4 7 2 7\n",
      " 1 3 1 1 7 4 2 5 5 1 2 4 4 6 3 5 5 2 0 4 1 9 7 7 2 9 2 7 9 2 4 3 0 7 0 2 8\n",
      " 1 7 3 7 9 7 9 6 2 7 8 4 7 3 6 1 3 6 9 3 1 4 1 7 6 9 6 0 5 4 9 9 2 1 9 4 8\n",
      " 1 5 9 7 9 4 4 9 2 3 6 7 6 4 9 0 5 8 5 6 6 5 7 8 1 0 1 6 4 6 7 3 1 7 1 8 2\n",
      " 0 4 9 9 5 5 1 5 6 0 3 4 4 6 5 4 6 5 4 5 1 4 4 7 2 3 2 7 1 8 1 8 1 8 5 0 8\n",
      " 9 2 5 0 1 1 1 0 9 0 1 1 6 9 2 3 6 1 1 1 3 9 5 2 9 4 7 9 3 9 0 3 5 5 5 7 2\n",
      " 2 7 1 2 8 4 1 7 5 3 8 7 7 9 2 2 4 1 5 3 8 4 2 5 0 2 4 2 9 1 9 5 7 7 1 1 2\n",
      " 6 8 1 7 7 9 1 8 1 5 0 3 0 1 9 9 4 1 8 2 1 2 9 7 5 9 2 6 4 1 5 4 2 9 2 0 9\n",
      " 0 0 2 8 1 7 1 2 4 0 2 9 4 5 3 0 0 5 1 7 6 5 0 5 7 7 9 3 0 9 2 0 7 1 1 1 1\n",
      " 5 3 3 9 7 0 6 5 4 1 3 5 1 0 5 1 9 1 5 0 6 1 8 5 1 9 9 4 6 7 2 5 0 6 3 6 3\n",
      " 7 2 0 8 8 5 9 1 1 4 0 3 3 7 6 1 6 2 1 9 2 8 6 1 9 5 2 5 4 4 2 8 5 9 2 9 5\n",
      " 0 3 1 7 7 3 7 9 7 1 9 2 1 4 2 9 2 0 4 9 1 4 8 1 8 4 4 9 7 8 3 7 6 0 0 3 5\n",
      " 8 0 6 4 8 3 3 3 2 3 9 1 1 5 8 0 9 6 6 6 7 8 8 2 2 5 8 9 6 1 8 4 1 2 5 3 1\n",
      " 9 7 7 4 0 9 9 9 1 0 5 2 3 7 8 9 4 0 6 3]\n",
      "0.8542914171656687\n"
     ]
    }
   ],
   "source": [
    "'''\n",
    "svm.SVC()\n",
    "최적의 기울기 상수 구하여 적용하기\n",
    "'''\n",
    "import pandas as pd\n",
    "from sklearn import svm, metrics\n",
    "from sklearn.model_selection import GridSearchCV\n",
    "\n",
    "path = 'C:/Users/Playdata/Documents/python_OpenCV/deep/mnist/'\n",
    "def load_csv(fname):\n",
    "    label = []\n",
    "    data = []\n",
    "    with open(path+fname, 'r') as f:\n",
    "        for line in f:\n",
    "            t = line.split(',')\n",
    "            if t[0]=='\\n':\n",
    "                    continue\n",
    "            label.append(int(t[0]))\n",
    "            num_img = []#숫자 이미지 1개\n",
    "            for i in range(1, len(t)):\n",
    "                num_img.append(int(t[i])/256)\n",
    "            data.append(num_img)\n",
    "    return label, data\n",
    "\n",
    "train_label,train_data = load_csv('train.csv')\n",
    "test_label,test_data = load_csv('t10k.csv')\n",
    "\n",
    "#clf = svm.SVC()\n",
    "params =[{\"C\":[1,10,100,1000],\"kernel\":[\"linear\"]},\n",
    "        {\"C\":[1,10,100,1000],\"kernel\":[\"rbf\"],\"gamma\":[0.001,0.0001]}]\n",
    "clf = GridSearchCV(svm.SVC(), params,n_jobs = -1)\n",
    "\n",
    "clf.fit(train_data, train_label)\n",
    "pre = clf.predict(test_data)\n",
    "print(pre)\n",
    "score = metrics.accuracy_score(test_label, pre)\n",
    "print(score)"
   ]
  }
 ],
 "metadata": {
  "kernelspec": {
   "display_name": "Python 3",
   "language": "python",
   "name": "python3"
  },
  "language_info": {
   "codemirror_mode": {
    "name": "ipython",
    "version": 3
   },
   "file_extension": ".py",
   "mimetype": "text/x-python",
   "name": "python",
   "nbconvert_exporter": "python",
   "pygments_lexer": "ipython3",
   "version": "3.7.6"
  }
 },
 "nbformat": 4,
 "nbformat_minor": 4
}
